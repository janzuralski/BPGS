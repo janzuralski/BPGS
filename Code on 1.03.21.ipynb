{
 "cells": [
  {
   "cell_type": "markdown",
   "metadata": {},
   "source": [
    "# <span style=\"color:yellow\"> Goldman Sachs Project</span>"
   ]
  },
  {
   "cell_type": "markdown",
   "metadata": {},
   "source": [
    "## STEP 1 - SCRAPING"
   ]
  },
  {
   "cell_type": "code",
   "execution_count": 1,
   "metadata": {},
   "outputs": [],
   "source": [
    "import bs4 as bs\n",
    "import urllib.request as ur\n",
    "import requests\n",
    "import pandas as pd\n",
    "import re\n",
    "import codecs\n",
    "import copy\n",
    "import collections\n",
    "import string\n",
    "\n",
    "import numpy as np\n",
    "import nltk\n",
    "from nltk.stem import PorterStemmer\n",
    "from nltk.tokenize import WordPunctTokenizer\n",
    "import matplotlib\n",
    "\n",
    "%matplotlib inline"
   ]
  },
  {
   "cell_type": "markdown",
   "metadata": {},
   "source": [
    "### Creating the list of URLs"
   ]
  },
  {
   "cell_type": "code",
   "execution_count": 2,
   "metadata": {},
   "outputs": [],
   "source": [
    "urls = ['https://eur-lex.europa.eu/legal-content/EN/TXT/HTML/?uri=CELEX:32014L0065&from=EN', \n",
    "        'https://eur-lex.europa.eu/legal-content/EN/TXT/HTML/?uri=CELEX:32014R0596&from=EN',\n",
    "       'https://eur-lex.europa.eu/legal-content/EN/TXT/HTML/?uri=CELEX:32017R0590&from=EN',\n",
    "       'https://eur-lex.europa.eu/legal-content/EN/TXT/HTML/?uri=CELEX:32014R0600&from=EN',\n",
    "       'https://eur-lex.europa.eu/legal-content/EN/TXT/HTML/?uri=CELEX:32014L0059&from=EN',\n",
    "       'https://eur-lex.europa.eu/legal-content/EN/TXT/HTML/?uri=CELEX:32016R1712&from=EN',\n",
    "       'https://eur-lex.europa.eu/legal-content/EN/TXT/HTML/?uri=CELEX:32012R0648&from=EN',\n",
    "       'https://eur-lex.europa.eu/legal-content/EN/TXT/HTML/?uri=CELEX:32017R1443&from=EN',\n",
    "       'https://eur-lex.europa.eu/legal-content/EN/TXT/HTML/?uri=CELEX:32012R0648&from=EN',\n",
    "       'https://eur-lex.europa.eu/legal-content/EN/TXT/HTML/?uri=CELEX:32015R2365&from=EN',\n",
    "       'https://eur-lex.europa.eu/legal-content/EN/TXT/HTML/?uri=CELEX:32019R0356&from=EN',\n",
    "       'https://eur-lex.europa.eu/legal-content/EN/TXT/HTML/?uri=CELEX:32013R0148&from=EN']\n"
   ]
  },
  {
   "cell_type": "markdown",
   "metadata": {},
   "source": [
    " "
   ]
  },
  {
   "cell_type": "markdown",
   "metadata": {},
   "source": [
    "### Getting HTML from LOOP, parsing it and saving a BS object"
   ]
  },
  {
   "cell_type": "code",
   "execution_count": 3,
   "metadata": {},
   "outputs": [],
   "source": [
    "soups=[]\n",
    "\n",
    "for i in urls: \n",
    "    #try: #tries are always halpful with url as you never know\n",
    "    req = ur.Request(i)  \n",
    "    html = ur.urlopen(req).read() \n",
    "    parsed = bs.BeautifulSoup(html,'lxml')\n",
    "    soups.append(parsed)"
   ]
  },
  {
   "cell_type": "markdown",
   "metadata": {},
   "source": [
    " "
   ]
  },
  {
   "cell_type": "markdown",
   "metadata": {},
   "source": [
    "### Extracting title, date and topic of the article"
   ]
  },
  {
   "cell_type": "code",
   "execution_count": 4,
   "metadata": {},
   "outputs": [],
   "source": [
    "titles=[]\n",
    "dates=[]\n",
    "topics=[]\n",
    "\n",
    "for i in soups: \n",
    "    #Extracting title of the article\n",
    "    title = i.find('p', {\"class\":'doc-ti'}).text\n",
    "    titles.append(title)\n",
    "    \n",
    "    #Extracting date when the article was published\n",
    "    date = i.find('p', {\"class\":'hd-date'}).text[0:9]\n",
    "    dates.append(date)\n",
    "    \n",
    "    #Extracting topic of the directive\n",
    "    topic =[]\n",
    "    for x in i.findAll('p',  {\"class\": ['doc-ti']}):\n",
    "         topic.append(x.text)\n",
    "    topic=topic[2]\n",
    "    topics.append(topic)"
   ]
  },
  {
   "cell_type": "markdown",
   "metadata": {},
   "source": [
    " "
   ]
  },
  {
   "cell_type": "markdown",
   "metadata": {},
   "source": [
    "This is a table that stores information on title, date and topic of each article"
   ]
  },
  {
   "cell_type": "code",
   "execution_count": 6,
   "metadata": {},
   "outputs": [
    {
     "data": {
      "text/html": [
       "<div>\n",
       "<style scoped>\n",
       "    .dataframe tbody tr th:only-of-type {\n",
       "        vertical-align: middle;\n",
       "    }\n",
       "\n",
       "    .dataframe tbody tr th {\n",
       "        vertical-align: top;\n",
       "    }\n",
       "\n",
       "    .dataframe thead th {\n",
       "        text-align: right;\n",
       "    }\n",
       "</style>\n",
       "<table border=\"1\" class=\"dataframe\">\n",
       "  <thead>\n",
       "    <tr style=\"text-align: right;\">\n",
       "      <th></th>\n",
       "      <th>Title</th>\n",
       "      <th>Date</th>\n",
       "      <th>Topic</th>\n",
       "    </tr>\n",
       "  </thead>\n",
       "  <tbody>\n",
       "    <tr>\n",
       "      <th>0</th>\n",
       "      <td>DIRECTIVE 2014/65/EU OF THE EUROPEAN PARLIAMENT AND OF THE COUNCIL</td>\n",
       "      <td>12.6.2014</td>\n",
       "      <td>on markets in financial instruments and amending Directive 2002/92/EC and Directive 2011/61/EU</td>\n",
       "    </tr>\n",
       "    <tr>\n",
       "      <th>1</th>\n",
       "      <td>REGULATION (EU) No 596/2014 OF THE EUROPEAN PARLIAMENT AND OF THE COUNCIL</td>\n",
       "      <td>12.6.2014</td>\n",
       "      <td>on market abuse (market abuse regulation) and repealing Directive 2003/6/EC of the European Parliament and of the Council and Commission Directives 2003/124/EC, 2003/125/EC and 2004/72/EC</td>\n",
       "    </tr>\n",
       "    <tr>\n",
       "      <th>2</th>\n",
       "      <td>COMMISSION DELEGATED REGULATION (EU) 2017/590</td>\n",
       "      <td>31.3.2017</td>\n",
       "      <td>supplementing Regulation (EU) No 600/2014 of the European Parliament and of the Council with regard to regulatory technical standards for the reporting of transactions to competent authorities</td>\n",
       "    </tr>\n",
       "    <tr>\n",
       "      <th>3</th>\n",
       "      <td>REGULATION (EU) No 600/2014 OF THE EUROPEAN PARLIAMENT AND OF THE COUNCIL</td>\n",
       "      <td>12.6.2014</td>\n",
       "      <td>on markets in financial instruments and amending Regulation (EU) No 648/2012</td>\n",
       "    </tr>\n",
       "    <tr>\n",
       "      <th>4</th>\n",
       "      <td>DIRECTIVE 2014/59/EU OF THE EUROPEAN PARLIAMENT AND OF THE COUNCIL</td>\n",
       "      <td>12.6.2014</td>\n",
       "      <td>establishing a framework for the recovery and resolution of credit institutions and investment firms and amending Council Directive 82/891/EEC, and Directives 2001/24/EC, 2002/47/EC, 2004/25/EC, 2005/56/EC, 2007/36/EC, 2011/35/EU, 2012/30/EU and 2013/36/EU, and Regulations (EU) No 1093/2010 and ...</td>\n",
       "    </tr>\n",
       "    <tr>\n",
       "      <th>5</th>\n",
       "      <td>COMMISSION DELEGATED REGULATION (EU) 2016/1712</td>\n",
       "      <td>24.9.2016</td>\n",
       "      <td>supplementing Directive 2014/59/EU of the European Parliament and of the Council establishing a framework for the recovery and resolution of credit institutions and investment firms with regard to regulatory technical standards specifying a minimum set of the information on financial contracts t...</td>\n",
       "    </tr>\n",
       "    <tr>\n",
       "      <th>6</th>\n",
       "      <td>REGULATION (EU) No 648/2012 OF THE EUROPEAN PARLIAMENT AND OF THE COUNCIL</td>\n",
       "      <td>27.7.2012</td>\n",
       "      <td>on OTC derivatives, central counterparties and trade repositories</td>\n",
       "    </tr>\n",
       "    <tr>\n",
       "      <th>7</th>\n",
       "      <td>COMMISSION IMPLEMENTING REGULATION (EU) 2017/1443</td>\n",
       "      <td>17.8.2017</td>\n",
       "      <td>amending Implementing Regulation (EU) No 680/2014 laying down implementing technical standards with regards to supervisory reporting of institutions according to Regulation (EU) No 575/2013 of the European Parliament and of the Council</td>\n",
       "    </tr>\n",
       "    <tr>\n",
       "      <th>8</th>\n",
       "      <td>REGULATION (EU) No 648/2012 OF THE EUROPEAN PARLIAMENT AND OF THE COUNCIL</td>\n",
       "      <td>27.7.2012</td>\n",
       "      <td>on OTC derivatives, central counterparties and trade repositories</td>\n",
       "    </tr>\n",
       "    <tr>\n",
       "      <th>9</th>\n",
       "      <td>REGULATION (EU) 2015/2365 OF THE EUROPEAN PARLIAMENT AND OF THE COUNCIL</td>\n",
       "      <td>23.12.201</td>\n",
       "      <td>on transparency of securities financing transactions and of reuse and amending Regulation (EU) No 648/2012</td>\n",
       "    </tr>\n",
       "    <tr>\n",
       "      <th>10</th>\n",
       "      <td>COMMISSION DELEGATED REGULATION (EU) 2019/356</td>\n",
       "      <td>22.3.2019</td>\n",
       "      <td>supplementing Regulation (EU) 2015/2365 of the European Parliament and of the Council with regard to regulatory technical standards specifying the details of securities financing transactions (SFTs) to be reported to trade repositories</td>\n",
       "    </tr>\n",
       "    <tr>\n",
       "      <th>11</th>\n",
       "      <td>COMMISSION DELEGATED REGULATION (EU) No 148/2013</td>\n",
       "      <td>23.2.2013</td>\n",
       "      <td>supplementing Regulation (EU) No 648/2012 of the European Parliament and of the Council on OTC derivatives, central counterparties and trade repositories with regard to regulatory technical standards on the minimum details of the data to be reported to trade repositories</td>\n",
       "    </tr>\n",
       "  </tbody>\n",
       "</table>\n",
       "</div>"
      ],
      "text/plain": [
       "                                                                        Title  \\\n",
       "0          DIRECTIVE 2014/65/EU OF THE EUROPEAN PARLIAMENT AND OF THE COUNCIL   \n",
       "1   REGULATION (EU) No 596/2014 OF THE EUROPEAN PARLIAMENT AND OF THE COUNCIL   \n",
       "2                               COMMISSION DELEGATED REGULATION (EU) 2017/590   \n",
       "3   REGULATION (EU) No 600/2014 OF THE EUROPEAN PARLIAMENT AND OF THE COUNCIL   \n",
       "4          DIRECTIVE 2014/59/EU OF THE EUROPEAN PARLIAMENT AND OF THE COUNCIL   \n",
       "5                              COMMISSION DELEGATED REGULATION (EU) 2016/1712   \n",
       "6   REGULATION (EU) No 648/2012 OF THE EUROPEAN PARLIAMENT AND OF THE COUNCIL   \n",
       "7                           COMMISSION IMPLEMENTING REGULATION (EU) 2017/1443   \n",
       "8   REGULATION (EU) No 648/2012 OF THE EUROPEAN PARLIAMENT AND OF THE COUNCIL   \n",
       "9     REGULATION (EU) 2015/2365 OF THE EUROPEAN PARLIAMENT AND OF THE COUNCIL   \n",
       "10                              COMMISSION DELEGATED REGULATION (EU) 2019/356   \n",
       "11                           COMMISSION DELEGATED REGULATION (EU) No 148/2013   \n",
       "\n",
       "         Date  \\\n",
       "0   12.6.2014   \n",
       "1   12.6.2014   \n",
       "2   31.3.2017   \n",
       "3   12.6.2014   \n",
       "4   12.6.2014   \n",
       "5   24.9.2016   \n",
       "6   27.7.2012   \n",
       "7   17.8.2017   \n",
       "8   27.7.2012   \n",
       "9   23.12.201   \n",
       "10  22.3.2019   \n",
       "11  23.2.2013   \n",
       "\n",
       "                                                                                                                                                                                                                                                                                                          Topic  \n",
       "0                                                                                                                                                                                                                on markets in financial instruments and amending Directive 2002/92/EC and Directive 2011/61/EU  \n",
       "1                                                                                                                   on market abuse (market abuse regulation) and repealing Directive 2003/6/EC of the European Parliament and of the Council and Commission Directives 2003/124/EC, 2003/125/EC and 2004/72/EC  \n",
       "2                                                                                                              supplementing Regulation (EU) No 600/2014 of the European Parliament and of the Council with regard to regulatory technical standards for the reporting of transactions to competent authorities  \n",
       "3                                                                                                                                                                                                                                  on markets in financial instruments and amending Regulation (EU) No 648/2012  \n",
       "4   establishing a framework for the recovery and resolution of credit institutions and investment firms and amending Council Directive 82/891/EEC, and Directives 2001/24/EC, 2002/47/EC, 2004/25/EC, 2005/56/EC, 2007/36/EC, 2011/35/EU, 2012/30/EU and 2013/36/EU, and Regulations (EU) No 1093/2010 and ...  \n",
       "5   supplementing Directive 2014/59/EU of the European Parliament and of the Council establishing a framework for the recovery and resolution of credit institutions and investment firms with regard to regulatory technical standards specifying a minimum set of the information on financial contracts t...  \n",
       "6                                                                                                                                                                                                                                             on OTC derivatives, central counterparties and trade repositories  \n",
       "7                                                                   amending Implementing Regulation (EU) No 680/2014 laying down implementing technical standards with regards to supervisory reporting of institutions according to Regulation (EU) No 575/2013 of the European Parliament and of the Council  \n",
       "8                                                                                                                                                                                                                                             on OTC derivatives, central counterparties and trade repositories  \n",
       "9                                                                                                                                                                                                    on transparency of securities financing transactions and of reuse and amending Regulation (EU) No 648/2012  \n",
       "10                                                                  supplementing Regulation (EU) 2015/2365 of the European Parliament and of the Council with regard to regulatory technical standards specifying the details of securities financing transactions (SFTs) to be reported to trade repositories  \n",
       "11                              supplementing Regulation (EU) No 648/2012 of the European Parliament and of the Council on OTC derivatives, central counterparties and trade repositories with regard to regulatory technical standards on the minimum details of the data to be reported to trade repositories  "
      ]
     },
     "execution_count": 6,
     "metadata": {},
     "output_type": "execute_result"
    }
   ],
   "source": [
    "d = {'Title':titles,'Date':dates, 'Topic':topics}\n",
    "df_summary = pd.DataFrame(d)\n",
    "pd.set_option('display.max_colwidth', 300)\n",
    "df_summary"
   ]
  },
  {
   "cell_type": "markdown",
   "metadata": {},
   "source": [
    " "
   ]
  },
  {
   "cell_type": "markdown",
   "metadata": {},
   "source": [
    "### Extracting all text from html"
   ]
  },
  {
   "cell_type": "code",
   "execution_count": 7,
   "metadata": {},
   "outputs": [],
   "source": [
    "#Extracting texts from HTML for each link\n",
    "texts=[]\n",
    "\n",
    "for i in soups: \n",
    "    new =[]\n",
    "    for x in i.findAll('p',  {\"class\": ['doc-sep', 'doc-end', 'hd-lg', 'separator', 'bold', 'final', 'ti-section-1', 'expanded', 'note', 'hd-date', 'signatory', 'sti-art', 'tbl-hdr', 'italic', 'normal', 'table', 'hd-oj', 'super', 'sp-normal', 'doc-ti', 'ti-section-2', 'ti-art', 'ti-tbl', 'ti-grseq-1', 'hd-ti', 'tbl-txt']}):\n",
    "         new.append(x.text)\n",
    "    text = \"\\n\".join(new)\n",
    "    texts.append(text)"
   ]
  },
  {
   "cell_type": "markdown",
   "metadata": {},
   "source": [
    "Text of each article is save as an object of list texts. You should adress to each article by texts[i] or by using a loop."
   ]
  },
  {
   "cell_type": "code",
   "execution_count": 10,
   "metadata": {},
   "outputs": [],
   "source": [
    "# How it looks\n",
    "#print(texts[2])"
   ]
  },
  {
   "cell_type": "markdown",
   "metadata": {},
   "source": [
    " "
   ]
  },
  {
   "cell_type": "markdown",
   "metadata": {},
   "source": [
    " "
   ]
  },
  {
   "cell_type": "markdown",
   "metadata": {},
   "source": [
    "## STEP 2 - DATA CLEANING"
   ]
  },
  {
   "cell_type": "markdown",
   "metadata": {},
   "source": [
    "### Deleting stopwords"
   ]
  },
  {
   "cell_type": "markdown",
   "metadata": {},
   "source": [
    "In this part stopwords are deleted for each of the article"
   ]
  },
  {
   "cell_type": "code",
   "execution_count": 8,
   "metadata": {},
   "outputs": [],
   "source": [
    "# Adding stopwords\n",
    "stopwords = nltk.corpus.stopwords.words('english')\n",
    "new_stopwords=['would','article','shall']\n",
    "for i in new_stopwords:\n",
    "    stopwords.append(i)\n",
    "\n",
    "# Creating a function for text cleaning\n",
    "def clean_text(txt):\n",
    "    txt=\"\".join([c for c in txt if c not in string.punctuation])\n",
    "    tokens=re.split('\\W+', txt)\n",
    "    txt=[word for word in tokens if word not in stopwords]\n",
    "    return txt"
   ]
  },
  {
   "cell_type": "code",
   "execution_count": 9,
   "metadata": {},
   "outputs": [],
   "source": [
    "texts_no_stopwords=[]\n",
    "\n",
    "for i in texts: \n",
    "    #Deleting stopwords\n",
    "    text_no_stopwords=clean_text(i.lower())\n",
    "    texts_no_stopwords.append(text_no_stopwords)"
   ]
  },
  {
   "cell_type": "markdown",
   "metadata": {},
   "source": [
    " "
   ]
  },
  {
   "cell_type": "markdown",
   "metadata": {},
   "source": [
    "### Lemmatization: WordNet (uses a dictionary)"
   ]
  },
  {
   "cell_type": "markdown",
   "metadata": {},
   "source": [
    "In this part all texts are lemmatized"
   ]
  },
  {
   "cell_type": "code",
   "execution_count": 10,
   "metadata": {},
   "outputs": [],
   "source": [
    "wn=nltk.WordNetLemmatizer()\n",
    "\n",
    "def lemmatization(token_txt):\n",
    "    text=[wn.lemmatize(word) for word in token_txt]\n",
    "    return text"
   ]
  },
  {
   "cell_type": "code",
   "execution_count": 11,
   "metadata": {},
   "outputs": [],
   "source": [
    "texts_lemmatized=[]\n",
    "\n",
    "for i in texts_no_stopwords: \n",
    "    #Lemmatizing texts without stopwords\n",
    "    text_lemmatized=lemmatization(i)\n",
    "    text_lemmatized = ' '.join([str(x) for x in text_lemmatized])\n",
    "    texts_lemmatized.append(text_lemmatized)"
   ]
  },
  {
   "cell_type": "markdown",
   "metadata": {},
   "source": [
    " "
   ]
  },
  {
   "cell_type": "markdown",
   "metadata": {},
   "source": [
    "### Making a table just for visualisation (will be deleted)"
   ]
  },
  {
   "cell_type": "markdown",
   "metadata": {},
   "source": [
    "Here you may see how text changes with each step after deleting stopwords and lemmatization. Later this section will be deleted from the final code."
   ]
  },
  {
   "cell_type": "code",
   "execution_count": 12,
   "metadata": {},
   "outputs": [
    {
     "data": {
      "text/html": [
       "<div>\n",
       "<style scoped>\n",
       "    .dataframe tbody tr th:only-of-type {\n",
       "        vertical-align: middle;\n",
       "    }\n",
       "\n",
       "    .dataframe tbody tr th {\n",
       "        vertical-align: top;\n",
       "    }\n",
       "\n",
       "    .dataframe thead th {\n",
       "        text-align: right;\n",
       "    }\n",
       "</style>\n",
       "<table border=\"1\" class=\"dataframe\">\n",
       "  <thead>\n",
       "    <tr style=\"text-align: right;\">\n",
       "      <th></th>\n",
       "      <th>Title</th>\n",
       "      <th>Date</th>\n",
       "      <th>Topic</th>\n",
       "      <th>Texts</th>\n",
       "      <th>Texts_no_stopwords</th>\n",
       "      <th>Texts_lemmatized</th>\n",
       "    </tr>\n",
       "  </thead>\n",
       "  <tbody>\n",
       "    <tr>\n",
       "      <th>0</th>\n",
       "      <td>DIRECTIVE 2014/65/EU OF THE EUROPEAN PARLIAMENT AND OF THE COUNCIL</td>\n",
       "      <td>12.6.2014</td>\n",
       "      <td>on markets in financial instruments and amending Directive 2002/92/EC and Directive 2011/61/EU</td>\n",
       "      <td>12.6.2014   \\nEN\\nOfficial Journal of the European Union\\nL 173/349\\nDIRECTIVE 2014/65/EU OF THE EUROPEAN PARLIAMENT AND OF THE COUNCIL\\nof 15 May 2014\\non markets in financial instruments and amending Directive 2002/92/EC and Directive 2011/61/EU\\n(recast)\\n(Text with EEA relevance)\\nTHE EUROPEAN PARLIAMENT AND THE COUNCIL OF THE EUROPEAN UNION,\\nHaving regard to the Treaty on the Functioning...</td>\n",
       "      <td>[1262014, en, official, journal, european, union, l, 173349, directive, 201465eu, european, parliament, council, 15, may, 2014, markets, financial, instruments, amending, directive, 200292ec, directive, 201161eu, recast, text, eea, relevance, european, parliament, council, european, union, regard, treaty, functioning, european, union, particular, 531, thereof, regard, proposal, european, commi...</td>\n",
       "      <td>1262014 en official journal european union l 173349 directive 201465eu european parliament council 15 may 2014 market financial instrument amending directive 200292ec directive 201161eu recast text eea relevance european parliament council european union regard treaty functioning european union particular 531 thereof regard proposal european commission transmission draft legislative act nation...</td>\n",
       "    </tr>\n",
       "    <tr>\n",
       "      <th>1</th>\n",
       "      <td>REGULATION (EU) No 596/2014 OF THE EUROPEAN PARLIAMENT AND OF THE COUNCIL</td>\n",
       "      <td>12.6.2014</td>\n",
       "      <td>on market abuse (market abuse regulation) and repealing Directive 2003/6/EC of the European Parliament and of the Council and Commission Directives 2003/124/EC, 2003/125/EC and 2004/72/EC</td>\n",
       "      <td>12.6.2014   \\nEN\\nOfficial Journal of the European Union\\nL 173/1\\nREGULATION (EU) No 596/2014 OF THE EUROPEAN PARLIAMENT AND OF THE COUNCIL\\nof 16 April 2014\\non market abuse (market abuse regulation) and repealing Directive 2003/6/EC of the European Parliament and of the Council and Commission Directives 2003/124/EC, 2003/125/EC and 2004/72/EC\\n(Text with EEA relevance)\\nTHE EUROPEAN PARLIAM...</td>\n",
       "      <td>[1262014, en, official, journal, european, union, l, 1731, regulation, eu, 5962014, european, parliament, council, 16, april, 2014, market, abuse, market, abuse, regulation, repealing, directive, 20036ec, european, parliament, council, commission, directives, 2003124ec, 2003125ec, 200472ec, text, eea, relevance, european, parliament, council, european, union, regard, treaty, functioning, europ...</td>\n",
       "      <td>1262014 en official journal european union l 1731 regulation eu 5962014 european parliament council 16 april 2014 market abuse market abuse regulation repealing directive 20036ec european parliament council commission directive 2003124ec 2003125ec 200472ec text eea relevance european parliament council european union regard treaty functioning european union particular 114 thereof regard propos...</td>\n",
       "    </tr>\n",
       "  </tbody>\n",
       "</table>\n",
       "</div>"
      ],
      "text/plain": [
       "                                                                       Title  \\\n",
       "0         DIRECTIVE 2014/65/EU OF THE EUROPEAN PARLIAMENT AND OF THE COUNCIL   \n",
       "1  REGULATION (EU) No 596/2014 OF THE EUROPEAN PARLIAMENT AND OF THE COUNCIL   \n",
       "\n",
       "        Date  \\\n",
       "0  12.6.2014   \n",
       "1  12.6.2014   \n",
       "\n",
       "                                                                                                                                                                                         Topic  \\\n",
       "0                                                                                               on markets in financial instruments and amending Directive 2002/92/EC and Directive 2011/61/EU   \n",
       "1  on market abuse (market abuse regulation) and repealing Directive 2003/6/EC of the European Parliament and of the Council and Commission Directives 2003/124/EC, 2003/125/EC and 2004/72/EC   \n",
       "\n",
       "                                                                                                                                                                                                                                                                                                                                                                                                             Texts  \\\n",
       "0  12.6.2014   \\nEN\\nOfficial Journal of the European Union\\nL 173/349\\nDIRECTIVE 2014/65/EU OF THE EUROPEAN PARLIAMENT AND OF THE COUNCIL\\nof 15 May 2014\\non markets in financial instruments and amending Directive 2002/92/EC and Directive 2011/61/EU\\n(recast)\\n(Text with EEA relevance)\\nTHE EUROPEAN PARLIAMENT AND THE COUNCIL OF THE EUROPEAN UNION,\\nHaving regard to the Treaty on the Functioning...   \n",
       "1  12.6.2014   \\nEN\\nOfficial Journal of the European Union\\nL 173/1\\nREGULATION (EU) No 596/2014 OF THE EUROPEAN PARLIAMENT AND OF THE COUNCIL\\nof 16 April 2014\\non market abuse (market abuse regulation) and repealing Directive 2003/6/EC of the European Parliament and of the Council and Commission Directives 2003/124/EC, 2003/125/EC and 2004/72/EC\\n(Text with EEA relevance)\\nTHE EUROPEAN PARLIAM...   \n",
       "\n",
       "                                                                                                                                                                                                                                                                                                                                                                                                Texts_no_stopwords  \\\n",
       "0  [1262014, en, official, journal, european, union, l, 173349, directive, 201465eu, european, parliament, council, 15, may, 2014, markets, financial, instruments, amending, directive, 200292ec, directive, 201161eu, recast, text, eea, relevance, european, parliament, council, european, union, regard, treaty, functioning, european, union, particular, 531, thereof, regard, proposal, european, commi...   \n",
       "1  [1262014, en, official, journal, european, union, l, 1731, regulation, eu, 5962014, european, parliament, council, 16, april, 2014, market, abuse, market, abuse, regulation, repealing, directive, 20036ec, european, parliament, council, commission, directives, 2003124ec, 2003125ec, 200472ec, text, eea, relevance, european, parliament, council, european, union, regard, treaty, functioning, europ...   \n",
       "\n",
       "                                                                                                                                                                                                                                                                                                                                                                                                  Texts_lemmatized  \n",
       "0  1262014 en official journal european union l 173349 directive 201465eu european parliament council 15 may 2014 market financial instrument amending directive 200292ec directive 201161eu recast text eea relevance european parliament council european union regard treaty functioning european union particular 531 thereof regard proposal european commission transmission draft legislative act nation...  \n",
       "1  1262014 en official journal european union l 1731 regulation eu 5962014 european parliament council 16 april 2014 market abuse market abuse regulation repealing directive 20036ec european parliament council commission directive 2003124ec 2003125ec 200472ec text eea relevance european parliament council european union regard treaty functioning european union particular 114 thereof regard propos...  "
      ]
     },
     "execution_count": 12,
     "metadata": {},
     "output_type": "execute_result"
    }
   ],
   "source": [
    "d = {'Title':titles,'Date':dates, 'Topic':topics, 'Texts':texts, 'Texts_no_stopwords':texts_no_stopwords, 'Texts_lemmatized':texts_lemmatized}\n",
    "df_full = pd.DataFrame(d)\n",
    "pd.set_option('display.max_colwidth', 400)\n",
    "df_full.head(2)"
   ]
  },
  {
   "cell_type": "markdown",
   "metadata": {},
   "source": [
    " "
   ]
  },
  {
   "cell_type": "markdown",
   "metadata": {},
   "source": [
    " "
   ]
  },
  {
   "cell_type": "markdown",
   "metadata": {},
   "source": [
    "## STEP 3 - TEXT ANALYSIS"
   ]
  },
  {
   "cell_type": "markdown",
   "metadata": {},
   "source": [
    "### Detailed table of most frequently used words for each article"
   ]
  },
  {
   "cell_type": "code",
   "execution_count": 18,
   "metadata": {},
   "outputs": [],
   "source": [
    "# Adding word pattern\n",
    "word_pattern = re.compile(\"^\\w+$\")\n",
    "esw = nltk.corpus.stopwords.words('english')\n",
    "\n",
    "# Adding function that counts length of text and tokenizes it\n",
    "def get_text_counter(text):\n",
    "    tokens=WordPunctTokenizer().tokenize(PorterStemmer().stem(text))\n",
    "    tokens=list(map(lambda x: x.lower(), tokens))\n",
    "    tokens=[token for token in tokens if re.match(word_pattern, token) and token not in esw]\n",
    "    return collections.Counter(tokens), len(tokens)\n",
    "\n",
    "# Adding function that creates a table of most frequent words used in the text\n",
    "def make_df(counter, size):\n",
    "    abs_freq = np.array([el[1] for el in counter])\n",
    "    rel_freq = abs_freq/size*100\n",
    "    index = [el[0] for el in counter]\n",
    "    df = pd.DataFrame(data=np.array([abs_freq, rel_freq]).T, index=index, columns=[\"Adolute Freq\", \"Relative Freq (%)\"])\n",
    "    df.index.name=\"Most common words\"\n",
    "    return df"
   ]
  },
  {
   "cell_type": "markdown",
   "metadata": {},
   "source": [
    "This cell creates a table of most frequently used words in each article"
   ]
  },
  {
   "cell_type": "code",
   "execution_count": 19,
   "metadata": {},
   "outputs": [],
   "source": [
    "common_word_tables=[]\n",
    "\n",
    "for i in texts_lemmatized: \n",
    "    #Lemmatizing texts without stopwords\n",
    "    t_counter, t_size=get_text_counter(i)\n",
    "    common_word_table=make_df(t_counter.most_common(10), t_size)\n",
    "    common_word_tables.append(common_word_table)"
   ]
  },
  {
   "cell_type": "code",
   "execution_count": 20,
   "metadata": {},
   "outputs": [
    {
     "data": {
      "text/html": [
       "<div>\n",
       "<style scoped>\n",
       "    .dataframe tbody tr th:only-of-type {\n",
       "        vertical-align: middle;\n",
       "    }\n",
       "\n",
       "    .dataframe tbody tr th {\n",
       "        vertical-align: top;\n",
       "    }\n",
       "\n",
       "    .dataframe thead th {\n",
       "        text-align: right;\n",
       "    }\n",
       "</style>\n",
       "<table border=\"1\" class=\"dataframe\">\n",
       "  <thead>\n",
       "    <tr style=\"text-align: right;\">\n",
       "      <th></th>\n",
       "      <th>Adolute Freq</th>\n",
       "      <th>Relative Freq (%)</th>\n",
       "    </tr>\n",
       "    <tr>\n",
       "      <th>Most common words</th>\n",
       "      <th></th>\n",
       "      <th></th>\n",
       "    </tr>\n",
       "  </thead>\n",
       "  <tbody>\n",
       "    <tr>\n",
       "      <th>contract</th>\n",
       "      <td>46.0</td>\n",
       "      <td>3.338171</td>\n",
       "    </tr>\n",
       "    <tr>\n",
       "      <th>financial</th>\n",
       "      <td>40.0</td>\n",
       "      <td>2.902758</td>\n",
       "    </tr>\n",
       "    <tr>\n",
       "      <th>counterparty</th>\n",
       "      <td>28.0</td>\n",
       "      <td>2.031930</td>\n",
       "    </tr>\n",
       "    <tr>\n",
       "      <th>agreement</th>\n",
       "      <td>25.0</td>\n",
       "      <td>1.814224</td>\n",
       "    </tr>\n",
       "    <tr>\n",
       "      <th>authority</th>\n",
       "      <td>24.0</td>\n",
       "      <td>1.741655</td>\n",
       "    </tr>\n",
       "    <tr>\n",
       "      <th>margin</th>\n",
       "      <td>24.0</td>\n",
       "      <td>1.741655</td>\n",
       "    </tr>\n",
       "    <tr>\n",
       "      <th>resolution</th>\n",
       "      <td>22.0</td>\n",
       "      <td>1.596517</td>\n",
       "    </tr>\n",
       "    <tr>\n",
       "      <th>master</th>\n",
       "      <td>21.0</td>\n",
       "      <td>1.523948</td>\n",
       "    </tr>\n",
       "    <tr>\n",
       "      <th>regulation</th>\n",
       "      <td>20.0</td>\n",
       "      <td>1.451379</td>\n",
       "    </tr>\n",
       "    <tr>\n",
       "      <th>reporting</th>\n",
       "      <td>19.0</td>\n",
       "      <td>1.378810</td>\n",
       "    </tr>\n",
       "  </tbody>\n",
       "</table>\n",
       "</div>"
      ],
      "text/plain": [
       "                   Adolute Freq  Relative Freq (%)\n",
       "Most common words                                 \n",
       "contract                   46.0           3.338171\n",
       "financial                  40.0           2.902758\n",
       "counterparty               28.0           2.031930\n",
       "agreement                  25.0           1.814224\n",
       "authority                  24.0           1.741655\n",
       "margin                     24.0           1.741655\n",
       "resolution                 22.0           1.596517\n",
       "master                     21.0           1.523948\n",
       "regulation                 20.0           1.451379\n",
       "reporting                  19.0           1.378810"
      ]
     },
     "execution_count": 20,
     "metadata": {},
     "output_type": "execute_result"
    }
   ],
   "source": [
    "common_word_tables[5]"
   ]
  },
  {
   "cell_type": "markdown",
   "metadata": {},
   "source": [
    " "
   ]
  },
  {
   "cell_type": "markdown",
   "metadata": {},
   "source": [
    "### List of most frequently used words for each article"
   ]
  },
  {
   "cell_type": "markdown",
   "metadata": {},
   "source": [
    "This code extracts 10 most frequent words from the article"
   ]
  },
  {
   "cell_type": "code",
   "execution_count": 21,
   "metadata": {},
   "outputs": [],
   "source": [
    "frequent_words=[]\n",
    "\n",
    "for i in common_word_tables: \n",
    "    #Lemmatizing texts without stopwords\n",
    "    frequent_word=i.index.tolist()\n",
    "    frequent_words.append(frequent_word)"
   ]
  },
  {
   "cell_type": "code",
   "execution_count": 24,
   "metadata": {},
   "outputs": [
    {
     "data": {
      "text/html": [
       "<div>\n",
       "<style scoped>\n",
       "    .dataframe tbody tr th:only-of-type {\n",
       "        vertical-align: middle;\n",
       "    }\n",
       "\n",
       "    .dataframe tbody tr th {\n",
       "        vertical-align: top;\n",
       "    }\n",
       "\n",
       "    .dataframe thead th {\n",
       "        text-align: right;\n",
       "    }\n",
       "</style>\n",
       "<table border=\"1\" class=\"dataframe\">\n",
       "  <thead>\n",
       "    <tr style=\"text-align: right;\">\n",
       "      <th></th>\n",
       "      <th>Title</th>\n",
       "      <th>Date</th>\n",
       "      <th>Topic</th>\n",
       "      <th>Key Words</th>\n",
       "    </tr>\n",
       "  </thead>\n",
       "  <tbody>\n",
       "    <tr>\n",
       "      <th>0</th>\n",
       "      <td>DIRECTIVE 2014/65/EU OF THE EUROPEAN PARLIAMENT AND OF THE COUNCIL</td>\n",
       "      <td>12.6.2014</td>\n",
       "      <td>on markets in financial instruments and amending Directive 2002/92/EC and Directive 2011/61/EU</td>\n",
       "      <td>[investment, member, firm, market, state, authority, client, directive, competent, service]</td>\n",
       "    </tr>\n",
       "    <tr>\n",
       "      <th>1</th>\n",
       "      <td>REGULATION (EU) No 596/2014 OF THE EUROPEAN PARLIAMENT AND OF THE COUNCIL</td>\n",
       "      <td>12.6.2014</td>\n",
       "      <td>on market abuse (market abuse regulation) and repealing Directive 2003/6/EC of the European Parliament and of the Council and Commission Directives 2003/124/EC, 2003/125/EC and 2004/72/EC</td>\n",
       "      <td>[market, information, person, authority, regulation, financial, instrument, competent, trading, inside]</td>\n",
       "    </tr>\n",
       "    <tr>\n",
       "      <th>2</th>\n",
       "      <td>COMMISSION DELEGATED REGULATION (EU) 2017/590</td>\n",
       "      <td>31.3.2017</td>\n",
       "      <td>supplementing Regulation (EU) No 600/2014 of the European Parliament and of the Council with regard to regulatory technical standards for the reporting of transactions to competent authorities</td>\n",
       "      <td>[transaction, firm, investment, instrument, report, trading, code, financial, field, order]</td>\n",
       "    </tr>\n",
       "    <tr>\n",
       "      <th>3</th>\n",
       "      <td>REGULATION (EU) No 600/2014 OF THE EUROPEAN PARLIAMENT AND OF THE COUNCIL</td>\n",
       "      <td>12.6.2014</td>\n",
       "      <td>on markets in financial instruments and amending Regulation (EU) No 648/2012</td>\n",
       "      <td>[trading, market, financial, venue, instrument, regulation, esma, authority, firm, competent]</td>\n",
       "    </tr>\n",
       "    <tr>\n",
       "      <th>4</th>\n",
       "      <td>DIRECTIVE 2014/59/EU OF THE EUROPEAN PARLIAMENT AND OF THE COUNCIL</td>\n",
       "      <td>12.6.2014</td>\n",
       "      <td>establishing a framework for the recovery and resolution of credit institutions and investment firms and amending Council Directive 82/891/EEC, and Directives 2001/24/EC, 2002/47/EC, 2004/25/EC, 2005/56/EC, 2007/36/EC, 2011/35/EU, 2012/30/EU and 2013/36/EU, and Regulations (EU) No 1093/2010 and ...</td>\n",
       "      <td>[resolution, authority, institution, state, member, referred, group, directive, financial, b]</td>\n",
       "    </tr>\n",
       "  </tbody>\n",
       "</table>\n",
       "</div>"
      ],
      "text/plain": [
       "                                                                       Title  \\\n",
       "0         DIRECTIVE 2014/65/EU OF THE EUROPEAN PARLIAMENT AND OF THE COUNCIL   \n",
       "1  REGULATION (EU) No 596/2014 OF THE EUROPEAN PARLIAMENT AND OF THE COUNCIL   \n",
       "2                              COMMISSION DELEGATED REGULATION (EU) 2017/590   \n",
       "3  REGULATION (EU) No 600/2014 OF THE EUROPEAN PARLIAMENT AND OF THE COUNCIL   \n",
       "4         DIRECTIVE 2014/59/EU OF THE EUROPEAN PARLIAMENT AND OF THE COUNCIL   \n",
       "\n",
       "        Date  \\\n",
       "0  12.6.2014   \n",
       "1  12.6.2014   \n",
       "2  31.3.2017   \n",
       "3  12.6.2014   \n",
       "4  12.6.2014   \n",
       "\n",
       "                                                                                                                                                                                                                                                                                                         Topic  \\\n",
       "0                                                                                                                                                                                                               on markets in financial instruments and amending Directive 2002/92/EC and Directive 2011/61/EU   \n",
       "1                                                                                                                  on market abuse (market abuse regulation) and repealing Directive 2003/6/EC of the European Parliament and of the Council and Commission Directives 2003/124/EC, 2003/125/EC and 2004/72/EC   \n",
       "2                                                                                                             supplementing Regulation (EU) No 600/2014 of the European Parliament and of the Council with regard to regulatory technical standards for the reporting of transactions to competent authorities   \n",
       "3                                                                                                                                                                                                                                 on markets in financial instruments and amending Regulation (EU) No 648/2012   \n",
       "4  establishing a framework for the recovery and resolution of credit institutions and investment firms and amending Council Directive 82/891/EEC, and Directives 2001/24/EC, 2002/47/EC, 2004/25/EC, 2005/56/EC, 2007/36/EC, 2011/35/EU, 2012/30/EU and 2013/36/EU, and Regulations (EU) No 1093/2010 and ...   \n",
       "\n",
       "                                                                                                 Key Words  \n",
       "0              [investment, member, firm, market, state, authority, client, directive, competent, service]  \n",
       "1  [market, information, person, authority, regulation, financial, instrument, competent, trading, inside]  \n",
       "2              [transaction, firm, investment, instrument, report, trading, code, financial, field, order]  \n",
       "3            [trading, market, financial, venue, instrument, regulation, esma, authority, firm, competent]  \n",
       "4            [resolution, authority, institution, state, member, referred, group, directive, financial, b]  "
      ]
     },
     "execution_count": 24,
     "metadata": {},
     "output_type": "execute_result"
    }
   ],
   "source": [
    "d = {'Title':titles,'Date':dates, 'Topic':topics, 'Key Words':frequent_words}\n",
    "df_summary = pd.DataFrame(d)\n",
    "pd.set_option('display.max_colwidth', 300)\n",
    "df_summary.head()"
   ]
  },
  {
   "cell_type": "markdown",
   "metadata": {},
   "source": [
    " "
   ]
  },
  {
   "cell_type": "markdown",
   "metadata": {},
   "source": [
    " "
   ]
  }
 ],
 "metadata": {
  "kernelspec": {
   "display_name": "Python 3",
   "language": "python",
   "name": "python3"
  },
  "language_info": {
   "codemirror_mode": {
    "name": "ipython",
    "version": 3
   },
   "file_extension": ".py",
   "mimetype": "text/x-python",
   "name": "python",
   "nbconvert_exporter": "python",
   "pygments_lexer": "ipython3",
   "version": "3.8.3"
  }
 },
 "nbformat": 4,
 "nbformat_minor": 4
}
